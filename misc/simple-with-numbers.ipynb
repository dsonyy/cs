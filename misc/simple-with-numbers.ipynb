{
 "cells": [
  {
   "cell_type": "markdown",
   "metadata": {},
   "source": [
    "# Simple algorithms with numbers"
   ]
  },
  {
   "cell_type": "code",
   "execution_count": 33,
   "metadata": {},
   "outputs": [],
   "source": [
    "from math import sqrt"
   ]
  },
  {
   "cell_type": "markdown",
   "metadata": {},
   "source": [
    "### Greatest common divisor (Euclidean algorithm)"
   ]
  },
  {
   "cell_type": "code",
   "execution_count": 34,
   "metadata": {},
   "outputs": [],
   "source": [
    "def gcd(a, b):\n",
    "  while b > 0:\n",
    "    a, b = b, a % b\n",
    "  return a"
   ]
  },
  {
   "cell_type": "markdown",
   "metadata": {},
   "source": [
    "### Least common multiple"
   ]
  },
  {
   "cell_type": "code",
   "execution_count": 35,
   "metadata": {},
   "outputs": [],
   "source": [
    "def lcm(a, b):\n",
    "  return a * b // gcd(a, b)"
   ]
  },
  {
   "cell_type": "markdown",
   "metadata": {},
   "source": [
    "### Divisors"
   ]
  },
  {
   "cell_type": "code",
   "execution_count": 36,
   "metadata": {},
   "outputs": [],
   "source": [
    "def divisors(n):\n",
    "  S = set([])\n",
    "  for i in range(1, int(sqrt(n)) + 1):\n",
    "    if n % i == 0:\n",
    "      S.add(n // i)\n",
    "      S.add(i)\n",
    "  return S\n"
   ]
  },
  {
   "cell_type": "markdown",
   "metadata": {},
   "source": [
    "### Checking coprimes"
   ]
  },
  {
   "cell_type": "code",
   "execution_count": 37,
   "metadata": {},
   "outputs": [],
   "source": [
    "def check_coprime(a, b):\n",
    "  if gcd(a) == gcd(b) == 1:\n",
    "    return True\n",
    "    \n",
    "  return False"
   ]
  },
  {
   "cell_type": "markdown",
   "metadata": {},
   "source": [
    "### Checking primes"
   ]
  },
  {
   "cell_type": "markdown",
   "metadata": {},
   "source": [
    "Checking $2, 3, 4 ... \\sqrt{n}$"
   ]
  },
  {
   "cell_type": "code",
   "execution_count": 38,
   "metadata": {},
   "outputs": [],
   "source": [
    "def check_prime(n):\n",
    "  if n < 2:\n",
    "    return False\n",
    "  if n == 2:\n",
    "    return True\n",
    "  for i in range(2, int(sqrt(n)) + 1):\n",
    "    if n % i == 0:\n",
    "      return False\n",
    "  return True"
   ]
  },
  {
   "cell_type": "markdown",
   "metadata": {},
   "source": [
    "Checking $2, 3, 5, 7... \\sqrt{n}$"
   ]
  },
  {
   "cell_type": "code",
   "execution_count": 39,
   "metadata": {},
   "outputs": [],
   "source": [
    "def check_prime2(n):\n",
    "  if n < 2:\n",
    "    return False\n",
    "  if n == 2:\n",
    "    return True\n",
    "  if n % 2 == 0:\n",
    "    return False\n",
    "  for i in range(3, int(sqrt(n)) + 1, 2):\n",
    "    if n % i == 0:\n",
    "      return False\n",
    "  return True"
   ]
  },
  {
   "cell_type": "markdown",
   "metadata": {},
   "source": [
    "Checking $2, 3, 6k - 1, 6k + 1 ... \\sqrt{n}$ $(k \\in \\mathbb{N})$"
   ]
  },
  {
   "cell_type": "code",
   "execution_count": 40,
   "metadata": {},
   "outputs": [],
   "source": [
    "def gen(n):\n",
    "  yield 2\n",
    "  yield 3\n",
    "  k = 1\n",
    "  while 6*k - 1 < n:\n",
    "    yield 6*k - 1\n",
    "    if 6*k + 1 < n:\n",
    "      yield 6*k + 1\n",
    "    k += 1\n",
    "\n",
    "def check_prime3(n):\n",
    "  if n < 2:\n",
    "    return False\n",
    "  if n < 4:\n",
    "    return True\n",
    "  for i in gen(n):\n",
    "    if n % i == 0:\n",
    "      return False\n",
    "  return True"
   ]
  },
  {
   "cell_type": "markdown",
   "metadata": {},
   "source": [
    "### Generating primes"
   ]
  },
  {
   "cell_type": "markdown",
   "metadata": {},
   "source": [
    "$ O(n\\sqrt{n}) $"
   ]
  },
  {
   "cell_type": "code",
   "execution_count": 41,
   "metadata": {},
   "outputs": [],
   "source": [
    "def get_primes(n):\n",
    "  T = []\n",
    "  for m in range(2, n):\n",
    "    if check_prime(m):\n",
    "      T.append(m)\n",
    "  return T"
   ]
  },
  {
   "cell_type": "markdown",
   "metadata": {},
   "source": [
    "$ O(n\\log{\\log{n}})$ - Sieve of Eratosthenes, using array: $\\{0, 1, 2, 3, ..., n-1\\}$."
   ]
  },
  {
   "cell_type": "code",
   "execution_count": 42,
   "metadata": {},
   "outputs": [],
   "source": [
    "def get_primes(n):\n",
    "  Y = [True for _ in range(n)]\n",
    "  T = []\n",
    "  for i in range(2, n):\n",
    "    if Y[i]:\n",
    "      T.append(i)\n",
    "      for j in range(2*i, n, i):\n",
    "        Y[j] = False\n",
    "  return T"
   ]
  },
  {
   "cell_type": "markdown",
   "metadata": {},
   "source": [
    "$ O(n\\log{\\log{n}})$ - Sieve of Eratosthenes, using array: $\\{3, 5, 7, ..., N-1\\}$, where $N$ equals $n+1$ if $n$ is even or $n$ otherwise."
   ]
  },
  {
   "cell_type": "code",
   "execution_count": 43,
   "metadata": {},
   "outputs": [],
   "source": [
    "def get_primes2(n):\n",
    "  if n <= 2:\n",
    "    return []\n",
    "\n",
    "  to_val = lambda i: i * 2 + 3\n",
    "  to_idx = lambda v: (v - 3) // 2 if v % 2 else None\n",
    "  \n",
    "  N = n + 1 if n % 2 == 0 else n\n",
    "  T = [2]\n",
    "  Y = [True for _ in range(to_idx(N))]\n",
    "\n",
    "  for i in range(to_idx(N)):\n",
    "    if Y[i]:\n",
    "      T.append(to_val(i))\n",
    "      for j in range(2*to_val(i), N, to_val(i)):\n",
    "        if j % 2 == 1:\n",
    "          Y[to_idx(j)] = False\n",
    "  return T"
   ]
  },
  {
   "cell_type": "markdown",
   "metadata": {},
   "source": [
    "$ O(n) $\n",
    "\n",
    "Each composite number can be represented as $ n = p^k \\cdot q $, where:\n",
    "* $p$ is the smallest prime dividing $n$, \n",
    "* $k \\geq 1$\n",
    "* $p = q$ or $p$ is smaller than the smallest prime dividing $q$.\n",
    "\n",
    "![](img/primes.png)"
   ]
  },
  {
   "cell_type": "code",
   "execution_count": 44,
   "metadata": {},
   "outputs": [],
   "source": [
    "def gen_primes3(n):\n",
    "  Y = [True for _ in range(n)]\n",
    "  T = []\n",
    "\n",
    "  for i in range(2, n):\n",
    "    if not Y[i]:\n",
    "      continue\n",
    "\n",
    "    p, q = i, i\n",
    "    while p * q < n:\n",
    "      k = 1\n",
    "      while p**k * q < n:\n",
    "        Y[p**k * q] = False\n",
    "        k += 1\n",
    "      q += 1\n",
    "\n",
    "  for i, v in enumerate(gen_primes3(20), 2):\n",
    "    if v:\n",
    "      Y.append(i)\n",
    "  return Y"
   ]
  },
  {
   "cell_type": "markdown",
   "metadata": {},
   "source": [
    "### Prime factorization\n",
    "\n",
    "Direct search factorization aka trial division."
   ]
  },
  {
   "cell_type": "code",
   "execution_count": 46,
   "metadata": {},
   "outputs": [],
   "source": [
    "def factorize(n):\n",
    "  T = []\n",
    "  for p in range(2,  int(sqrt(n)) + 1):\n",
    "    while n % p == 0:\n",
    "      n //= p\n",
    "      T.append(p)\n",
    "    if n == 1:\n",
    "      break\n",
    "  if n > 1:\n",
    "    T.append(n)\n",
    "  return T"
   ]
  },
  {
   "cell_type": "markdown",
   "metadata": {},
   "source": [
    "Optimized factorization by checking only $2, 3, 6k - 1, 6k + 1, (k \\in \\mathbb{N})$"
   ]
  },
  {
   "cell_type": "code",
   "execution_count": 47,
   "metadata": {},
   "outputs": [],
   "source": [
    "def gen(n):\n",
    "  if n >= 1:\n",
    "    yield 2\n",
    "  if n >= 2:\n",
    "    yield 3\n",
    "  k = 1\n",
    "  while 6*k - 1 < n:\n",
    "    yield 6*k - 1\n",
    "    if 6*k + 1 < n:\n",
    "      yield 6*k + 1\n",
    "    k += 1\n",
    "\n",
    "def factorize2(n):\n",
    "  T = []\n",
    "  for p in gen(int(sqrt(n))):\n",
    "    while n % p == 0:\n",
    "      n //= p\n",
    "      T.append(p)\n",
    "    if n == 1:\n",
    "      break\n",
    "  if n > 1:\n",
    "    T.append(n)\n",
    "  return T"
   ]
  },
  {
   "cell_type": "code",
   "execution_count": null,
   "metadata": {},
   "outputs": [],
   "source": []
  }
 ],
 "metadata": {
  "kernelspec": {
   "display_name": "Python 3.8.10 64-bit",
   "language": "python",
   "name": "python3"
  },
  "language_info": {
   "codemirror_mode": {
    "name": "ipython",
    "version": 3
   },
   "file_extension": ".py",
   "mimetype": "text/x-python",
   "name": "python",
   "nbconvert_exporter": "python",
   "pygments_lexer": "ipython3",
   "version": "3.8.10"
  },
  "orig_nbformat": 4,
  "vscode": {
   "interpreter": {
    "hash": "31f2aee4e71d21fbe5cf8b01ff0e069b9275f58929596ceb00d14d90e3e16cd6"
   }
  }
 },
 "nbformat": 4,
 "nbformat_minor": 2
}
