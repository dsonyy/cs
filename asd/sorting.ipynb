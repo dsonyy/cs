{
 "cells": [
  {
   "cell_type": "markdown",
   "metadata": {},
   "source": [
    "# Sorting"
   ]
  },
  {
   "cell_type": "code",
   "execution_count": 24,
   "metadata": {},
   "outputs": [],
   "source": [
    "import random\n",
    "from math import log"
   ]
  },
  {
   "cell_type": "markdown",
   "metadata": {},
   "source": [
    "## $O(n^2)$"
   ]
  },
  {
   "cell_type": "markdown",
   "metadata": {},
   "source": [
    "### Bubble sort\n",
    "![](img/bubble-sort.gif)"
   ]
  },
  {
   "cell_type": "code",
   "execution_count": 25,
   "metadata": {},
   "outputs": [],
   "source": [
    "def bubble_sort(T):\n",
    "    for _ in range(1, len(T)):\n",
    "        for i in range(1, len(T)):\n",
    "            if T[i - 1] > T[i]:\n",
    "                T[i - 1], T[i] = T[i], T[i - 1]\n",
    "    return T"
   ]
  },
  {
   "cell_type": "markdown",
   "metadata": {},
   "source": [
    "### Insertion sort\n",
    "![](img/insertion-sort.gif)"
   ]
  },
  {
   "cell_type": "code",
   "execution_count": 26,
   "metadata": {},
   "outputs": [],
   "source": [
    "def insertion_sort(T):\n",
    "    for i in range(1, len(T)):\n",
    "        v = T[i]\n",
    "        j = i\n",
    "        while j > 0 and T[j - 1] > v:\n",
    "            T[j] = T[j - 1]\n",
    "            j -= 1\n",
    "        T[j] = v\n",
    "    return T"
   ]
  },
  {
   "cell_type": "markdown",
   "metadata": {},
   "source": [
    "### Selection sort\n",
    "![](img/selction-sort.gif)"
   ]
  },
  {
   "cell_type": "code",
   "execution_count": 27,
   "metadata": {},
   "outputs": [],
   "source": [
    "def selection_sort(T):\n",
    "    for i in range(len(T)):\n",
    "        min_j = i\n",
    "        for j in range(i, len(T)):\n",
    "            if T[min_j] > T[j]:\n",
    "                min_j = j\n",
    "        T[i], T[min_j] = T[min_j], T[i]\n",
    "    return T"
   ]
  },
  {
   "cell_type": "markdown",
   "metadata": {},
   "source": [
    "## $O(n\\log{n})$"
   ]
  },
  {
   "cell_type": "code",
   "execution_count": 28,
   "metadata": {},
   "outputs": [],
   "source": [
    "def left(i):\n",
    "    return 2*i + 1\n",
    "\n",
    "def right(i):\n",
    "    return 2*i + 2\n",
    "\n",
    "def parent(i):\n",
    "    return (i - 1) // 2\n",
    "\n",
    "def heapify(T, n, i):\n",
    "    l = left(i)\n",
    "    r = right(i)\n",
    "    max_ind = i\n",
    "    if l < n and T[l] > T[max_ind]:\n",
    "        max_ind = l\n",
    "    if r < n and T[r] > T[max_ind]:\n",
    "        max_ind = r\n",
    "    if i != max_ind:\n",
    "        T[max_ind], T[i] = T[i], T[max_ind]\n",
    "        heapify(T, n, max_ind)\n",
    "\n",
    "def build_heap(T):\n",
    "    n = len(T)\n",
    "    for i in range(parent(n - 1), -1, -1):\n",
    "        heapify(T, n, i)\n",
    "\n",
    "def heap_sort(T):\n",
    "    n = len(T)\n",
    "    build_heap(T)\n",
    "    for i in range(n-1, 0, -1):\n",
    "        T[0], T[i] = T[i], T[0]\n",
    "        heapify(T, i, 0)\n",
    "    return T"
   ]
  },
  {
   "cell_type": "code",
   "execution_count": 29,
   "metadata": {},
   "outputs": [],
   "source": [
    "def merge(T, l0, r0, l1, r1):\n",
    "    n = r1 - l0 + 1\n",
    "    buffer = [None for _ in range(n)]\n",
    "\n",
    "    idx0, idx1 = l0, l1\n",
    "    buffer_idx = 0\n",
    "\n",
    "    while buffer_idx < n:\n",
    "        if idx1 > r1 or (idx0 <= r0 and T[idx0] < T[idx1]):\n",
    "            buffer[buffer_idx] = T[idx0]\n",
    "            idx0 += 1\n",
    "        else:\n",
    "            buffer[buffer_idx] = T[idx1]\n",
    "            idx1 += 1\n",
    "        buffer_idx += 1\n",
    "\n",
    "    for i in range(n):\n",
    "        T[i + l0] = buffer[i]\n",
    "\n",
    "\n",
    "def _merge_sort(T, l, r):\n",
    "    n = r - l + 1\n",
    "    if n == 2:\n",
    "        if T[l] > T[r]:\n",
    "            T[l], T[r] = T[r], T[l]\n",
    "    elif n > 2:\n",
    "        center = (l + r) // 2\n",
    "        _merge_sort(T, l, center)\n",
    "        _merge_sort(T, center + 1, r)\n",
    "        merge(T, l, center, center + 1, r)\n",
    "\n",
    "def merge_sort(T):\n",
    "    _merge_sort(T, 0, len(T) - 1)\n",
    "    return T"
   ]
  },
  {
   "cell_type": "code",
   "execution_count": 30,
   "metadata": {},
   "outputs": [],
   "source": [
    "def partition(T, l, r):\n",
    "    pivot = T[r]\n",
    "    i = l\n",
    "    for j in range(l, r):\n",
    "        if T[j] <= pivot:\n",
    "            T[j], T[i] = T[i], T[j]\n",
    "            i += 1\n",
    "    T[i], T[r] = T[r], T[i]\n",
    "    return i\n",
    "\n",
    "\n",
    "def _quick_sort(T, l, r):\n",
    "    \"\"\" Naive quick sort implementation. Might not handle large (nearly) sorted\n",
    "    arrays: stack overflow.\n",
    "    \"\"\"\n",
    "    if l < r:\n",
    "        c = partition(T, l, r)\n",
    "        _quick_sort(T, l, c - 1)\n",
    "        _quick_sort(T, c + 1, r)\n",
    "\n",
    "\n",
    "def _quick_sort(T, l, r):\n",
    "    \"\"\" Simple quick sort implementation with O(log n) space complexity. Might \n",
    "    not handle large (nearly) sorted arrays: long execution time.\n",
    "    \"\"\"\n",
    "    while l < r:\n",
    "        c = partition(T, l, r)\n",
    "        if (c - l) < (r - c):\n",
    "            _quick_sort(T, l, c - 1)\n",
    "            l = c + 1\n",
    "        else:\n",
    "            _quick_sort(T, c + 1, r)\n",
    "            r = c - 1"
   ]
  },
  {
   "cell_type": "markdown",
   "metadata": {},
   "source": [
    "## Linear"
   ]
  },
  {
   "cell_type": "code",
   "execution_count": 31,
   "metadata": {},
   "outputs": [],
   "source": [
    "def counting_sort(T, a, b):\n",
    "    n = len(T)\n",
    "    k = b - a + 1\n",
    "    counters = [0] * k\n",
    "    results = [0] * n\n",
    "\n",
    "    for v in T:\n",
    "        counters[v - a] += 1\n",
    "    for i in range(1, k):\n",
    "        counters[i] += counters[i - 1]\n",
    "    for i in range(n - 1, -1, -1):\n",
    "        results[counters[T[i] - a] - 1] = T[i]\n",
    "        counters[T[i] - a] -= 1\n",
    "\n",
    "    for i in range(n):\n",
    "        T[i] = results[i]"
   ]
  },
  {
   "cell_type": "code",
   "execution_count": 32,
   "metadata": {},
   "outputs": [],
   "source": [
    "def bucket_sort(T, a, b):\n",
    "    width = (b - a + 1) / len(T)\n",
    "    buckets = [[] for _ in range(len(T))]\n",
    "\n",
    "    for v in T:\n",
    "        idx = int((v - a) // width)\n",
    "        buckets[idx].append(v)\n",
    "\n",
    "    i = 0\n",
    "    for bucket in buckets:\n",
    "        if len(bucket) == 1:\n",
    "            T[i] = bucket[0]\n",
    "            i += 1\n",
    "        elif len(bucket) > 1:\n",
    "            insertion_sort(bucket)\n",
    "            for v in bucket:\n",
    "                T[i] = v\n",
    "                i += 1"
   ]
  },
  {
   "cell_type": "code",
   "execution_count": 33,
   "metadata": {},
   "outputs": [],
   "source": [
    "def counting_sort(T, key_n, key_fn):\n",
    "    counters = [0] * key_n\n",
    "    results = [0] * len(T)\n",
    "\n",
    "    for v in T:\n",
    "        counters[key_fn(v)] += 1\n",
    "    for i in range(1, key_n):\n",
    "        counters[i] += counters[i - 1]\n",
    "    for i in range(len(T) - 1, -1, -1):\n",
    "        results[counters[key_fn(T[i])] - 1] = T[i]\n",
    "        counters[key_fn(T[i])] -= 1\n",
    "\n",
    "    for i in range(len(T)):\n",
    "        T[i] = results[i]\n",
    "\n",
    "def radix_sort(T):\n",
    "    base = 10\n",
    "    digits = int(log(max(T), base) + 1)\n",
    "    for i in range(digits):\n",
    "        counting_sort(T, base, lambda v: v // base**i % base)\n",
    "    return T"
   ]
  },
  {
   "cell_type": "markdown",
   "metadata": {},
   "source": [
    "## Miscellaneous"
   ]
  },
  {
   "cell_type": "code",
   "execution_count": 34,
   "metadata": {},
   "outputs": [],
   "source": [
    "def bogo_sort(T):\n",
    "    while not sorted(T):\n",
    "        random.shuffle(T)\n",
    "    return T"
   ]
  }
 ],
 "metadata": {
  "kernelspec": {
   "display_name": "Python 3.8.10 64-bit",
   "language": "python",
   "name": "python3"
  },
  "language_info": {
   "codemirror_mode": {
    "name": "ipython",
    "version": 3
   },
   "file_extension": ".py",
   "mimetype": "text/x-python",
   "name": "python",
   "nbconvert_exporter": "python",
   "pygments_lexer": "ipython3",
   "version": "3.8.10"
  },
  "orig_nbformat": 4,
  "vscode": {
   "interpreter": {
    "hash": "916dbcbb3f70747c44a77c7bcd40155683ae19c65e1c03b4aa3499c5328201f1"
   }
  }
 },
 "nbformat": 4,
 "nbformat_minor": 2
}
