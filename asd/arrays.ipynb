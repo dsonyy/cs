{
 "cells": [
  {
   "cell_type": "markdown",
   "metadata": {},
   "source": [
    "# Arrays"
   ]
  },
  {
   "cell_type": "code",
   "execution_count": 2,
   "metadata": {},
   "outputs": [],
   "source": [
    "from typing import List, Union\n",
    "from random import randint"
   ]
  },
  {
   "cell_type": "markdown",
   "metadata": {},
   "source": [
    "## Array cut and swap\n",
    "\n",
    "Cuts the array in two parts and swaps the elements in the first part with\n",
    "the elements in the second part.\n",
    "\n",
    "### Space complexity $O(n)$"
   ]
  },
  {
   "cell_type": "code",
   "execution_count": 3,
   "metadata": {},
   "outputs": [],
   "source": [
    "def array_cut_and_swap(T: List[int], cut: int) -> None:\n",
    "    \"\"\"\n",
    "    Space complexity: O(n)\n",
    "    \"\"\"\n",
    "    if len(T) <= 1:\n",
    "        return\n",
    "\n",
    "    # cut the array in two parts\n",
    "    l: List[int] = T[:cut]\n",
    "    r: List[int] = T[cut:]\n",
    "\n",
    "    # swap the elements in the first part with the elements in the second part\n",
    "    i: int = 0\n",
    "    for j in range(len(r)):\n",
    "        T[i] = r[j]\n",
    "        i += 1\n",
    "    for j in range(len(l)):\n",
    "        T[i] = l[j]\n",
    "        i += 1"
   ]
  },
  {
   "cell_type": "markdown",
   "metadata": {},
   "source": [
    "### Space complexity $O(1)$"
   ]
  },
  {
   "cell_type": "code",
   "execution_count": 4,
   "metadata": {},
   "outputs": [],
   "source": [
    "def array_reverse(T: List[int], l: int, r: int) -> None:\n",
    "    \"\"\"\n",
    "    Reverses the elements in the range [l, r].\n",
    "    \"\"\"\n",
    "    n = r - l + 1\n",
    "    for i in range(n // 2):\n",
    "        T[l + i], T[r - i] = T[r - i], T[l + i]\n",
    "\n",
    "def array_cut_and_swap2(T: List[int], cut: int) -> None:\n",
    "    if len(T) <= 1:\n",
    "        return\n",
    "\n",
    "    # let's assume it repesents our input array\n",
    "    #           RR\n",
    "    #         RRRR\n",
    "    #       RRRRRR\n",
    "    #     LLRRRRRR\n",
    "    #   LLLLRRRRRR\n",
    "    # LLLLLLRRRRRR\n",
    "    #\n",
    "    # so this would be the output array\n",
    "    #     RR\n",
    "    #   RRRR\n",
    "    # RRRRRR\n",
    "    # RRRRRR    LL\n",
    "    # RRRRRR  LLLL\n",
    "    # RRRRRRLLLLLL\n",
    "\n",
    "    # 1. flip the left part\n",
    "    #           RR\n",
    "    #         RRRR\n",
    "    #       RRRRRR\n",
    "    # LL    RRRRRR\n",
    "    # LLLL  RRRRRR\n",
    "    # LLLLLLRRRRRR\n",
    "    array_reverse(T, 0, cut)\n",
    "\n",
    "    # 2. flip the right part\n",
    "    #       RR\n",
    "    #       RRRR\n",
    "    #       RRRRRR\n",
    "    # LL    RRRRRR\n",
    "    # LLLL  RRRRRR\n",
    "    # LLLLLLRRRRRR\n",
    "    array_reverse(T, cut + 1, len(T) - 1)\n",
    "\n",
    "    # 3. flip the whole array\n",
    "    #     RR\n",
    "    #   RRRR\n",
    "    # RRRRRR\n",
    "    # RRRRRR    LL\n",
    "    # RRRRRR  LLLL\n",
    "    # RRRRRRLLLLLL\n",
    "    array_reverse(T, 0, len(T) - 1)\n"
   ]
  },
  {
   "cell_type": "markdown",
   "metadata": {},
   "source": [
    "Test:"
   ]
  },
  {
   "cell_type": "code",
   "execution_count": 5,
   "metadata": {},
   "outputs": [],
   "source": [
    "for _ in range(1000):\n",
    "  T = [randint(0, 100) for _ in range(randint(1, 100))]\n",
    "  v = randint(0, len(T) - 1)\n",
    "  if array_cut_and_swap2(T, v) != array_cut_and_swap(T, v):\n",
    "    print(T)"
   ]
  },
  {
   "cell_type": "markdown",
   "metadata": {},
   "source": [
    "## Get min and max"
   ]
  },
  {
   "cell_type": "code",
   "execution_count": 6,
   "metadata": {},
   "outputs": [],
   "source": [
    "def find_min_max(T):\n",
    "    \"\"\"\n",
    "    Find min and max value in an unsorted list using only 3/2*N comparisons.\n",
    "    \"\"\"\n",
    "    N = len(T)\n",
    "    max_, min_ = T[0], T[0]\n",
    "    for i in range(1, N, 2):  # floor(N / 2) iterations\n",
    "        if T[i - 1] > T[i]:  # the first comparison\n",
    "            local_max, local_min = T[i - 1], T[i]\n",
    "        else:\n",
    "            local_max, local_min = T[i], T[i - 1]\n",
    "\n",
    "        if local_max > max_:  # the second comparison\n",
    "            max_ = local_max\n",
    "        if local_min < min_:  # the thrid comparison\n",
    "            min_ = local_min\n",
    "\n",
    "    if N % 2 == 1:  # additional check when N is odd\n",
    "        if T[N - 1] > max_:\n",
    "            max_ = T[N - 1]\n",
    "        if T[N - 1] < min_:\n",
    "            min_ = T[N - 1]\n",
    "\n",
    "    return min_, max_"
   ]
  },
  {
   "cell_type": "markdown",
   "metadata": {},
   "source": [
    "## The k-th element \n",
    "\n",
    "T is an unsorted array. What would be the idx-th element of T if T were sorted?\n",
    "\n",
    "Average performance $O(N)$."
   ]
  },
  {
   "cell_type": "code",
   "execution_count": 7,
   "metadata": {},
   "outputs": [],
   "source": [
    "def element_position(T, l, r, idx):\n",
    "    if l == r:\n",
    "        return T[l]\n",
    "    elif l > r:\n",
    "        return None\n",
    "    elif l < r:\n",
    "        pivot = T[r]\n",
    "        i = l\n",
    "        for j in range(l, r):\n",
    "            if T[j] < pivot:\n",
    "                T[i], T[j] = T[j], T[i]\n",
    "                i += 1\n",
    "        T[i], T[r] = T[r], T[i]\n",
    "\n",
    "        if i == idx:\n",
    "            return T[i]\n",
    "        elif i < idx:\n",
    "            return element_position(T, i + 1, r, idx)\n",
    "        elif i > idx:\n",
    "            return element_position(T, l, i - 1, idx)"
   ]
  },
  {
   "cell_type": "markdown",
   "metadata": {},
   "source": [
    "##  Find $x = T[j] - T[i]$\n",
    "\n",
    "For a given $x \\in \\mathbb{Z}$ find $i, j$ such that $x = T[j] - T[i]$.\n",
    "\n",
    "### $O(n^2)$\n",
    "\n",
    " Naive approach\n",
    "\n",
    "### $O(n)$\n",
    "\n",
    "Idea:\n",
    "\n",
    "Array: $[x_0, x_1, x_2, x_3]$\n",
    "\n",
    "Assume, we process the array using brute force method: our $i = 0$ and $j = 3$, and it's the first time when $T[j] - T[i] > x$. We can continue with $i = 1 $ and $j = 2$, but we can proof that it is not the answer. The optimal apprach continues with $i = 1 $ and $j = 3$.\n",
    "\n",
    "When $i = 1$ and $j = 3$, we already know:\n",
    "\n",
    "$ x_0 \\le x_1\\le x_2 \\le x_3 $  \n",
    "$ x_0 - x_0< x $  \n",
    "$ x_1 - x_0< x $  \n",
    "$ x_2 - x_0< x $  \n",
    "$ x_3 - x_0> x $  \n",
    "\n",
    "Now, we will show $ x_2 - x_1 < x $:\n",
    "\n",
    "$ x_0 = x_0 $  \n",
    "$ x_1 = x_0 + \\Delta_1$  \n",
    "$ x_2 = x_0 + \\Delta_1+ \\Delta_2$  \n",
    "$ \\Delta_i \\ge 0 $\n",
    "\n",
    "$ x_1 - x_0< x $  \n",
    "$ x_0 + \\Delta_1 - x_0< x $  \n",
    "$ \\Delta_1 < x $\n",
    "\n",
    "$ x_2 - x_0 < x $   \n",
    "$ x_0 + \\Delta_1  + \\Delta_2- x_0 < x $  \n",
    "$ \\Delta_1  + \\Delta_2 < x $\n",
    "\n",
    "$ \\Delta_2 < x $  \n",
    "$ (x_0 + \\Delta_1) + \\Delta_2 < (x_0 + \\Delta_1) + x $  \n",
    "$ x_2 - x_1 < x$\n",
    "\n",
    "Yea."
   ]
  },
  {
   "cell_type": "code",
   "execution_count": 8,
   "metadata": {},
   "outputs": [],
   "source": [
    "def subtraction(T, x):\n",
    "  i, j = 0, 0\n",
    "  while i < len(T) and j < len(T):\n",
    "    v = T[j] - T[i]\n",
    "    if v == x:\n",
    "      return j, i\n",
    "    elif v < x:\n",
    "      j += 1\n",
    "    else:\n",
    "      i += 1\n",
    "  return None"
   ]
  },
  {
   "cell_type": "markdown",
   "metadata": {},
   "source": [
    "Test:"
   ]
  },
  {
   "cell_type": "code",
   "execution_count": 9,
   "metadata": {},
   "outputs": [],
   "source": [
    "def subtraction_bf(T, x):\n",
    "    for i in range(len(T)):\n",
    "      for j in range(len(T)):\n",
    "        if T[j] - T[i] == x:\n",
    "          return j, i\n",
    "    return None\n",
    "\n",
    "for _ in range(100):\n",
    "  T = sorted([randint(-100, 100) for _ in range(randint(2, 100))])\n",
    "  x = randint(min(T), max(T))\n",
    "  a = subtraction(T, x)\n",
    "  b = subtraction_bf(T, x)\n",
    "  if a == b: continue\n",
    "  if a is None or T[a[0]] - T[a[1]] != x:\n",
    "    print(T, x, b)"
   ]
  },
  {
   "cell_type": "markdown",
   "metadata": {},
   "source": [
    "##  Find $x = T[j] + T[i]$\n",
    "\n",
    "For a given $x \\in \\mathbb{Z}$ find $i, j$ such that $x = T[j] + T[i]$.\n",
    "\n",
    "### $O(n)$"
   ]
  },
  {
   "cell_type": "code",
   "execution_count": 10,
   "metadata": {},
   "outputs": [],
   "source": [
    "def addition(T, x):\n",
    "  i, j = 0, len(T) - 1\n",
    "  while i < len(T) and j >= 0:\n",
    "    v = T[i] + T[j]\n",
    "    if v == x:\n",
    "      return i, j\n",
    "    elif v < x:\n",
    "      i += 1\n",
    "    else:\n",
    "      j -= 1\n",
    "  return None"
   ]
  },
  {
   "cell_type": "code",
   "execution_count": 11,
   "metadata": {},
   "outputs": [],
   "source": [
    "def addition_bf(T, x):\n",
    "    for i in range(len(T)):\n",
    "      for j in range(len(T)):\n",
    "        if T[j] + T[i] == x:\n",
    "          return j, i\n",
    "    return None\n",
    "\n",
    "for _ in range(1000):\n",
    "  T = sorted([randint(-100, 100) for _ in range(randint(2, 100))])\n",
    "  x = randint(min(T), max(T))\n",
    "  a = addition(T, x)\n",
    "  b = addition_bf(T, x)\n",
    "  if a == b: continue\n",
    "  if a is None or T[a[0]] + T[a[1]] != x:\n",
    "    print(T, x, b)"
   ]
  },
  {
   "cell_type": "markdown",
   "metadata": {},
   "source": [
    "## Find minimal and absent"
   ]
  },
  {
   "cell_type": "code",
   "execution_count": 39,
   "metadata": {},
   "outputs": [
    {
     "data": {
      "text/plain": [
       "2"
      ]
     },
     "execution_count": 39,
     "metadata": {},
     "output_type": "execute_result"
    }
   ],
   "source": [
    "def minimal_absent(T, m):\n",
    "  if T[-1] == len(T):\n",
    "    return T[-1] + 1\n",
    "\n",
    "  n = len(T)\n",
    "  l, r = 0, n\n",
    "  while l < r:\n",
    "    i = l + (r - l) // 2\n",
    "    if i + 1 < T[i]:\n",
    "      r = i\n",
    "    elif i + 1 >= T[i]:\n",
    "      l = i + 1\n",
    "\n",
    "  return l + 1\n",
    "\n",
    "minimal_absent([1], 60)\n"
   ]
  },
  {
   "cell_type": "markdown",
   "metadata": {},
   "source": [
    "Test:"
   ]
  },
  {
   "cell_type": "code",
   "execution_count": 41,
   "metadata": {},
   "outputs": [],
   "source": [
    "for _ in range(100000):\n",
    "  m = randint(1, 100)\n",
    "  T = sorted(list(set([randint(1, m + 1) for _ in range(randint(1, 10))])))\n",
    "\n",
    "  r = 0\n",
    "  if T[0] != 1: r = 1\n",
    "  elif T[-1] == len(T):\n",
    "    r = T[-1] + 1\n",
    "  else:\n",
    "    for i, v in enumerate(T):\n",
    "      if i + 1 != v:\n",
    "        r = T[i - 1] + 1\n",
    "        break\n",
    "  if (rr := minimal_absent(T, m)) != r:\n",
    "    print(T, r, rr)"
   ]
  },
  {
   "cell_type": "code",
   "execution_count": null,
   "metadata": {},
   "outputs": [],
   "source": []
  }
 ],
 "metadata": {
  "kernelspec": {
   "display_name": "Python 3.8.10 64-bit",
   "language": "python",
   "name": "python3"
  },
  "language_info": {
   "codemirror_mode": {
    "name": "ipython",
    "version": 3
   },
   "file_extension": ".py",
   "mimetype": "text/x-python",
   "name": "python",
   "nbconvert_exporter": "python",
   "pygments_lexer": "ipython3",
   "version": "3.8.10"
  },
  "orig_nbformat": 4,
  "vscode": {
   "interpreter": {
    "hash": "916dbcbb3f70747c44a77c7bcd40155683ae19c65e1c03b4aa3499c5328201f1"
   }
  }
 },
 "nbformat": 4,
 "nbformat_minor": 2
}
