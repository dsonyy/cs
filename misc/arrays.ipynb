{
  "cells": [
    {
      "cell_type": "markdown",
      "metadata": {},
      "source": [
        "# Arrays"
      ]
    },
    {
      "cell_type": "code",
      "execution_count": 4,
      "metadata": {},
      "outputs": [],
      "source": [
        "from math import floor\n",
        "from random import randint"
      ]
    },
    {
      "cell_type": "markdown",
      "metadata": {},
      "source": [
        "## Get $min$ and $max$"
      ]
    },
    {
      "cell_type": "markdown",
      "metadata": {},
      "source": [
        "Uses only $\\frac{3}{4}N$ comparisons."
      ]
    },
    {
      "cell_type": "code",
      "execution_count": 5,
      "metadata": {},
      "outputs": [],
      "source": [
        "def fast_min_max(T):\n",
        "    n = len(T)\n",
        "    min_, max_ = float(\"inf\"), float(\"-inf\")\n",
        "    if n % 2 == 1:\n",
        "        min_ = max_ = T[0]\n",
        "    for i in range(1 + n % 2, n, 2):\n",
        "        a, b = T[i - 1], T[i]\n",
        "        if a > b:\n",
        "            min_ = min(min_, b)\n",
        "            max_ = max(max_, a)\n",
        "        else:\n",
        "            min_ = min(min_, a)\n",
        "            max_ = max(max_, b)\n",
        "    return min_, max_"
      ]
    },
    {
      "cell_type": "markdown",
      "metadata": {},
      "source": [
        "Test:"
      ]
    },
    {
      "cell_type": "code",
      "execution_count": 6,
      "metadata": {},
      "outputs": [],
      "source": [
        "for _ in range(1000):\n",
        "    T = [randint(-10, 11) for _ in range(randint(1, 100))]\n",
        "    if (min(T), max(T)) != fast_min_max(T):\n",
        "        print(T)"
      ]
    },
    {
      "cell_type": "markdown",
      "metadata": {},
      "source": [
        "## Mode \n",
        "(pol. dominanta)"
      ]
    },
    {
      "cell_type": "markdown",
      "metadata": {},
      "source": [
        "### $O(n^2)$"
      ]
    },
    {
      "cell_type": "markdown",
      "metadata": {},
      "source": [
        "### $O(n\\log{n})$\n",
        "\n",
        "Using sorting."
      ]
    },
    {
      "cell_type": "code",
      "execution_count": 7,
      "metadata": {},
      "outputs": [],
      "source": [
        "def mode(T):\n",
        "    if not T:\n",
        "        return None\n",
        "    T = sorted(T)\n",
        "\n",
        "    cnt, val = 1, T[0]\n",
        "    max_cnt, max_vals = 1, []\n",
        "\n",
        "    for e in T[1:]:\n",
        "        if e == val:\n",
        "            cnt += 1\n",
        "        else:\n",
        "            if cnt > max_cnt:\n",
        "                max_cnt = cnt\n",
        "                max_vals = [val]\n",
        "            elif cnt == max_cnt:\n",
        "                max_vals.append(val)\n",
        "            cnt = 1\n",
        "            val = e\n",
        "    if cnt > max_cnt:\n",
        "        max_cnt = cnt\n",
        "        max_vals = [val]\n",
        "    elif cnt == max_cnt:\n",
        "        max_vals.append(val)\n",
        "\n",
        "    return max_vals"
      ]
    },
    {
      "cell_type": "markdown",
      "metadata": {},
      "source": [
        "### $O(n + m)$\n",
        "\n",
        "$n$ - number of elements in input array  \n",
        "$m$ - number elements in range $[\\min{n}, \\max{n}]$\n",
        "\n",
        "Create a counter for each value in $[\\min{n}, \\max{n}]$."
      ]
    },
    {
      "cell_type": "code",
      "execution_count": 8,
      "metadata": {},
      "outputs": [],
      "source": [
        "def mode2(T):\n",
        "    min_, max_ = fast_min_max(T)\n",
        "    cnts = [0 for _ in range(min_, max_ + 1)]\n",
        "    max_cnt = 0\n",
        "\n",
        "    for e in T:\n",
        "        cnts[e - min_] += 1\n",
        "        max_cnt = max(max_cnt, cnts[e - min_])\n",
        "\n",
        "    return [i + min_ for i, cnt in enumerate(cnts) if cnt == max_cnt]\n",
        "\n"
      ]
    },
    {
      "cell_type": "markdown",
      "metadata": {},
      "source": [
        "Test:"
      ]
    },
    {
      "cell_type": "code",
      "execution_count": 9,
      "metadata": {},
      "outputs": [],
      "source": [
        "for _ in range(100):\n",
        "    T = [randint(-20, 20) for _ in range(randint(1, 1000))]\n",
        "    if sorted(mode2(T)) != sorted(mode(T)):\n",
        "        print(T)"
      ]
    },
    {
      "cell_type": "markdown",
      "metadata": {},
      "source": [
        "## Leader\n",
        "\n",
        "Finding an element witch occurs more than $\\frac{n}{2}$ times."
      ]
    },
    {
      "cell_type": "markdown",
      "metadata": {},
      "source": [
        "### $O(n)$"
      ]
    },
    {
      "cell_type": "code",
      "execution_count": 10,
      "metadata": {},
      "outputs": [],
      "source": [
        "def leader(T):\n",
        "    v, cnt = T[0], 1\n",
        "    for w in T:\n",
        "        if w == v:\n",
        "            cnt += 1\n",
        "        elif cnt - 1 == 0:\n",
        "            v = w\n",
        "        else:\n",
        "            cnt -= 1\n",
        "    \n",
        "    cnt = 0\n",
        "    for w in T:\n",
        "        if w == v:\n",
        "            cnt += 1\n",
        "    \n",
        "    return v if cnt > len(T) / 2 else None\n"
      ]
    },
    {
      "cell_type": "markdown",
      "metadata": {},
      "source": [
        "## Binary search $O(\\log{n})$ "
      ]
    },
    {
      "cell_type": "code",
      "execution_count": 11,
      "metadata": {},
      "outputs": [],
      "source": [
        "def binary_search(T, x):\n",
        "    l, c, r = 0, len(T) // 2, len(T)\n",
        "    while l < r:\n",
        "        if T[c] == x:\n",
        "            return c\n",
        "        elif T[c] < x:\n",
        "            l, c = c + 1, l + (r - l) // 2\n",
        "        else:\n",
        "            c, r = (r - l) // 2, c\n",
        "    return -1"
      ]
    },
    {
      "cell_type": "markdown",
      "metadata": {},
      "source": [
        "## Interpolation search $O(\\log{\\log{n}})$ "
      ]
    },
    {
      "cell_type": "markdown",
      "metadata": {},
      "source": [
        "Assume we have a sorted array with linearly distributed numbers from range $[L, R]$ and indices $i_L ... i_R$. We want to check if $X\\in [L, R]$.\n",
        "\n",
        "We can use the following formula:\n",
        "\n",
        "$$\n",
        "i_X = i_L + \\lfloor \\frac{X - L}{R - L}(i_R - i_L) \\rfloor\n",
        "$$"
      ]
    },
    {
      "cell_type": "code",
      "execution_count": 12,
      "metadata": {},
      "outputs": [],
      "source": [
        "def interpolation(T, il, ir, x):\n",
        "    if T[ir] - T[il] == 0: # all values are the same\n",
        "        return il\n",
        "    return il + floor((x - T[il]) / (T[ir] - T[il]) * (ir - il))\n",
        "\n",
        "def interpolation_search(T, x):\n",
        "    il, ir = 0, len(T) - 1\n",
        "     \n",
        "    while T[il] <= x <= T[ir]:\n",
        "        ix = interpolation(T, il, ir, x)\n",
        "        if ix == -1:\n",
        "            return -1\n",
        "        elif T[ix] == x:\n",
        "            return ix\n",
        "        elif T[ix] < x:\n",
        "            il = ix + 1\n",
        "        else:\n",
        "            ir = ix - 1\n",
        "    return -1"
      ]
    },
    {
      "cell_type": "markdown",
      "metadata": {},
      "source": [
        "Test:"
      ]
    },
    {
      "cell_type": "code",
      "execution_count": 13,
      "metadata": {},
      "outputs": [],
      "source": [
        "for _ in range(100):\n",
        "    T = sorted([randint(-8, 8) for _ in range(randint(1, 100))])\n",
        "    for i in range(-20, 120):\n",
        "        try:\n",
        "            a = T[interpolation_search(T, i)] == i\n",
        "            b = T[binary_search(T, i)] == i\n",
        "        except Exception as e:\n",
        "            print(e, a, b, c, i, T)\n",
        "        c = i in T\n",
        "        if a != b != c:\n",
        "            print(a, b, c, i, T)"
      ]
    },
    {
      "cell_type": "markdown",
      "metadata": {},
      "source": [
        "## The k-th largest element"
      ]
    },
    {
      "cell_type": "markdown",
      "metadata": {},
      "source": [
        "### $O(n\\log{n})$\n",
        "Using sorting."
      ]
    },
    {
      "cell_type": "markdown",
      "metadata": {},
      "source": [
        "### $O(nk)$"
      ]
    },
    {
      "cell_type": "code",
      "execution_count": 14,
      "metadata": {},
      "outputs": [],
      "source": [
        "def kth_largest(T, k):\n",
        "    M = [float(\"-inf\") for _ in range(k)]\n",
        "    for e in T:\n",
        "        i = 0\n",
        "        while i < k and M[i] <= e:\n",
        "            e, M[i] = M[i], e\n",
        "            i += 1\n",
        "    return M[k - 1]"
      ]
    },
    {
      "cell_type": "markdown",
      "metadata": {},
      "source": [
        "### $O(n + m)$\n",
        "\n",
        "$n$ - number of elements in input array  \n",
        "$m$ - number elements in range $[\\min{n}, \\max{n}]$\n",
        "\n",
        "Create a counter for each value in $[\\min{n}, \\max{n}]$."
      ]
    },
    {
      "cell_type": "code",
      "execution_count": 15,
      "metadata": {},
      "outputs": [],
      "source": [
        "def kth_largest2(T, k):\n",
        "    min_, max_ = fast_min_max(T)\n",
        "    cnts = [0 for _ in range(min_, max_ + 1)]\n",
        "    for e in T:\n",
        "        cnts[e - min_] += 1\n",
        "\n",
        "    i = len(cnts) - 1\n",
        "    while cnts[i] < k:\n",
        "        k -= cnts[i]\n",
        "        i -= 1\n",
        "\n",
        "    return i + min_ "
      ]
    },
    {
      "cell_type": "markdown",
      "metadata": {},
      "source": [
        "Test:"
      ]
    },
    {
      "cell_type": "code",
      "execution_count": 16,
      "metadata": {},
      "outputs": [],
      "source": [
        "for _ in range(10):\n",
        "    T = sorted([randint(-20, 20) for _ in range(randint(1, 100))])\n",
        "    for k in range(1, len(T) + 1):\n",
        "        a = kth_largest(T, k)\n",
        "        b = kth_largest2(T, k)\n",
        "        if a !=b:\n",
        "            print(a, b, k, T)"
      ]
    },
    {
      "cell_type": "markdown",
      "metadata": {},
      "source": [
        "### Quickselect $O(n\\log{n})$\n",
        "\n",
        "Average $O(N)$.\n",
        "\n",
        "(...) It is related to the quicksort sorting algorithm. Like quicksort, it was developed by Tony Hoare, and thus is also known as Hoare's selection algorithm. Like quicksort, it is efficient in practice and has good average-case performance, but has poor worst-case performance. Quickselect and its variants are the selection algorithms most often used in efficient real-world implementations.\n",
        "\n",
        "![](img/quickselect.gif)"
      ]
    },
    {
      "cell_type": "code",
      "execution_count": 17,
      "metadata": {},
      "outputs": [],
      "source": [
        "def partition(T, l, r):\n",
        "  n = len(T)\n",
        "  v = T[l]\n",
        "\n",
        "  i, j = l, r\n",
        "  while i < j:\n",
        "    i += 1\n",
        "    while i < n and T[i] < v:\n",
        "      i += 1\n",
        "    \n",
        "    j -= 1\n",
        "    while j >= l + 1 and T[j] >= v:\n",
        "      j -= 1\n",
        "\n",
        "    if i < j:\n",
        "      T[i], T[j] = T[j], T[i]\n",
        "\n",
        "  T[l], T[j] = T[j], T[l]\n",
        "  return j\n",
        "\n",
        "def quick_select(T, k):\n",
        "  l, r = 0, len(T)\n",
        "  while True:\n",
        "    c = partition(T, l, r)\n",
        "    if c == len(T) - k:\n",
        "      return T[c]\n",
        "    elif c < len(T) - k:\n",
        "      l = c + 1\n",
        "    elif c > len(T) - k:\n",
        "      r = c\n",
        "  return T[c]"
      ]
    },
    {
      "cell_type": "markdown",
      "metadata": {},
      "source": [
        "Test:"
      ]
    },
    {
      "cell_type": "code",
      "execution_count": 22,
      "metadata": {},
      "outputs": [],
      "source": [
        "for _ in range(100):\n",
        "    T = sorted([randint(-20, 20) for _ in range(randint(1, 10))])\n",
        "    for k in range(1, len(T) + 1):\n",
        "        a = kth_largest(T, k)\n",
        "        b = quick_select(T, k)\n",
        "        if a != b:\n",
        "            print(a, b, k, T)"
      ]
    },
    {
      "cell_type": "markdown",
      "metadata": {},
      "source": [
        "## Median"
      ]
    },
    {
      "cell_type": "markdown",
      "metadata": {},
      "source": [
        "### $O(n\\log{n})$\n",
        "\n",
        "Using sorting."
      ]
    },
    {
      "cell_type": "markdown",
      "metadata": {},
      "source": [
        "### $O(n\\log{n})$\n",
        "\n",
        "Using *Quick Select* which is usually faster than by sorting."
      ]
    }
  ],
  "metadata": {
    "kernelspec": {
      "display_name": "Python 3.8.10 64-bit",
      "language": "python",
      "name": "python3"
    },
    "language_info": {
      "codemirror_mode": {
        "name": "ipython",
        "version": 3
      },
      "file_extension": ".py",
      "mimetype": "text/x-python",
      "name": "python",
      "nbconvert_exporter": "python",
      "pygments_lexer": "ipython3",
      "version": "3.8.10"
    },
    "orig_nbformat": 4,
    "vscode": {
      "interpreter": {
        "hash": "916dbcbb3f70747c44a77c7bcd40155683ae19c65e1c03b4aa3499c5328201f1"
      }
    }
  },
  "nbformat": 4,
  "nbformat_minor": 2
}
